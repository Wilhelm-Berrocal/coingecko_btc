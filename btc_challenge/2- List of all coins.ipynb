{
 "cells": [
  {
   "cell_type": "code",
   "execution_count": 1,
   "id": "9813e236",
   "metadata": {},
   "outputs": [],
   "source": [
    "import logging\n",
    "import requests\n",
    "import pandas as pd\n",
    "import sqlite3"
   ]
  },
  {
   "cell_type": "code",
   "execution_count": 2,
   "id": "98e384a8",
   "metadata": {},
   "outputs": [],
   "source": [
    "log_format = \"%(asctime)s::%(levelname)s::%(name)s::\"\"%(filename)s::%(lineno)d::%(message)s\"\n",
    "logging.basicConfig(filename='./logs/get_coin_list.log', level='DEBUG', format=log_format)"
   ]
  },
  {
   "cell_type": "code",
   "execution_count": 3,
   "id": "264f64be",
   "metadata": {},
   "outputs": [],
   "source": [
    "def get_coin_list():\n",
    "    \"\"\"Gets a list of coins from the coingecko api, and returns a dataframe with a list of coins, requieres pandas as pd and requests\"\"\"\n",
    "    #We could save the data as a json with\n",
    "    #list_of_coins.to_json('coin_list.json', orient='records',lines=True)\n",
    "\n",
    "    coins_url = 'https://api.coingecko.com/api/v3/coins/list'\n",
    "\n",
    "    try:\n",
    "        request = requests.get(coins_url)\n",
    "        coins = request.json()\n",
    "        list_of_coins = pd.json_normalize(coins)\n",
    "    except requests.exceptions.RequestException as e:\n",
    "        logging.info(f\"Exception - {e} occured\")\n",
    "        return\n",
    "    finally:\n",
    "        status = None\n",
    "        if request.status_code != 200:\n",
    "            status = \"FAIL\"\n",
    "            logging.info(f\"List of coins : {status}\")\n",
    "        else:\n",
    "            status = \"PASS\"\n",
    "            logging.info(f\"List of coins : {status}\")\n",
    "    \n",
    "    list_of_coins.to_csv('./data/list_of_coins/list_of_coins.csv', index=False)\n",
    "\n",
    "    return list_of_coins"
   ]
  },
  {
   "cell_type": "code",
   "execution_count": 4,
   "id": "6315b08d",
   "metadata": {},
   "outputs": [
    {
     "data": {
      "text/plain": [
       "'Gets a list of coins from the coingecko api, and returns a dataframe with a list of coins, requieres pandas as pd and requests'"
      ]
     },
     "execution_count": 4,
     "metadata": {},
     "output_type": "execute_result"
    }
   ],
   "source": [
    "get_coin_list.__doc__"
   ]
  },
  {
   "cell_type": "code",
   "execution_count": 5,
   "id": "22427f42",
   "metadata": {},
   "outputs": [],
   "source": [
    "coins = get_coin_list()"
   ]
  },
  {
   "cell_type": "code",
   "execution_count": 6,
   "id": "96d3a13b",
   "metadata": {},
   "outputs": [
    {
     "data": {
      "text/html": [
       "<div>\n",
       "<style scoped>\n",
       "    .dataframe tbody tr th:only-of-type {\n",
       "        vertical-align: middle;\n",
       "    }\n",
       "\n",
       "    .dataframe tbody tr th {\n",
       "        vertical-align: top;\n",
       "    }\n",
       "\n",
       "    .dataframe thead th {\n",
       "        text-align: right;\n",
       "    }\n",
       "</style>\n",
       "<table border=\"1\" class=\"dataframe\">\n",
       "  <thead>\n",
       "    <tr style=\"text-align: right;\">\n",
       "      <th></th>\n",
       "      <th>id</th>\n",
       "      <th>symbol</th>\n",
       "      <th>name</th>\n",
       "    </tr>\n",
       "  </thead>\n",
       "  <tbody>\n",
       "    <tr>\n",
       "      <th>0</th>\n",
       "      <td>01coin</td>\n",
       "      <td>zoc</td>\n",
       "      <td>01coin</td>\n",
       "    </tr>\n",
       "    <tr>\n",
       "      <th>1</th>\n",
       "      <td>0chain</td>\n",
       "      <td>zcn</td>\n",
       "      <td>Zus</td>\n",
       "    </tr>\n",
       "    <tr>\n",
       "      <th>2</th>\n",
       "      <td>0vix-protocol</td>\n",
       "      <td>vix</td>\n",
       "      <td>0VIX Protocol</td>\n",
       "    </tr>\n",
       "    <tr>\n",
       "      <th>3</th>\n",
       "      <td>0x</td>\n",
       "      <td>zrx</td>\n",
       "      <td>0x Protocol</td>\n",
       "    </tr>\n",
       "    <tr>\n",
       "      <th>4</th>\n",
       "      <td>0x0-ai-ai-smart-contract</td>\n",
       "      <td>0x0</td>\n",
       "      <td>0x0.ai: AI Smart Contract</td>\n",
       "    </tr>\n",
       "    <tr>\n",
       "      <th>...</th>\n",
       "      <td>...</td>\n",
       "      <td>...</td>\n",
       "      <td>...</td>\n",
       "    </tr>\n",
       "    <tr>\n",
       "      <th>9986</th>\n",
       "      <td>zynergy</td>\n",
       "      <td>zyn</td>\n",
       "      <td>Zynergy</td>\n",
       "    </tr>\n",
       "    <tr>\n",
       "      <th>9987</th>\n",
       "      <td>zyro</td>\n",
       "      <td>zyro</td>\n",
       "      <td>Zyro</td>\n",
       "    </tr>\n",
       "    <tr>\n",
       "      <th>9988</th>\n",
       "      <td>zyrri</td>\n",
       "      <td>zyr</td>\n",
       "      <td>Zyrri</td>\n",
       "    </tr>\n",
       "    <tr>\n",
       "      <th>9989</th>\n",
       "      <td>zyx</td>\n",
       "      <td>zyx</td>\n",
       "      <td>ZYX</td>\n",
       "    </tr>\n",
       "    <tr>\n",
       "      <th>9990</th>\n",
       "      <td>zzz</td>\n",
       "      <td>zzz</td>\n",
       "      <td>GoSleep ZZZ</td>\n",
       "    </tr>\n",
       "  </tbody>\n",
       "</table>\n",
       "<p>9991 rows × 3 columns</p>\n",
       "</div>"
      ],
      "text/plain": [
       "                            id symbol                       name\n",
       "0                       01coin    zoc                     01coin\n",
       "1                       0chain    zcn                        Zus\n",
       "2                0vix-protocol    vix              0VIX Protocol\n",
       "3                           0x    zrx                0x Protocol\n",
       "4     0x0-ai-ai-smart-contract    0x0  0x0.ai: AI Smart Contract\n",
       "...                        ...    ...                        ...\n",
       "9986                   zynergy    zyn                    Zynergy\n",
       "9987                      zyro   zyro                       Zyro\n",
       "9988                     zyrri    zyr                      Zyrri\n",
       "9989                       zyx    zyx                        ZYX\n",
       "9990                       zzz    zzz                GoSleep ZZZ\n",
       "\n",
       "[9991 rows x 3 columns]"
      ]
     },
     "execution_count": 6,
     "metadata": {},
     "output_type": "execute_result"
    }
   ],
   "source": [
    "coins"
   ]
  },
  {
   "cell_type": "code",
   "execution_count": null,
   "id": "8ad43a3c",
   "metadata": {},
   "outputs": [],
   "source": []
  },
  {
   "cell_type": "code",
   "execution_count": 7,
   "id": "631f9d54",
   "metadata": {},
   "outputs": [],
   "source": [
    "bitcoin_id = coins.loc[coins['name']=='Bitcoin','id'].values[0]"
   ]
  },
  {
   "cell_type": "code",
   "execution_count": 8,
   "id": "48a39092",
   "metadata": {},
   "outputs": [
    {
     "data": {
      "text/plain": [
       "'bitcoin'"
      ]
     },
     "execution_count": 8,
     "metadata": {},
     "output_type": "execute_result"
    }
   ],
   "source": [
    "bitcoin_id"
   ]
  },
  {
   "cell_type": "code",
   "execution_count": null,
   "id": "0f7d4c4e",
   "metadata": {},
   "outputs": [],
   "source": []
  },
  {
   "cell_type": "code",
   "execution_count": 9,
   "id": "44386e9d",
   "metadata": {},
   "outputs": [],
   "source": [
    "conn = sqlite3.connect('./db/coingecko')\n",
    "c = conn.cursor()"
   ]
  },
  {
   "cell_type": "code",
   "execution_count": 10,
   "id": "c61fea5b",
   "metadata": {},
   "outputs": [],
   "source": [
    "c.execute('CREATE TABLE IF NOT EXISTS coin_list (id, symbol, name)')\n",
    "conn.commit()"
   ]
  },
  {
   "cell_type": "code",
   "execution_count": 11,
   "id": "318d0d25",
   "metadata": {},
   "outputs": [
    {
     "data": {
      "text/plain": [
       "9991"
      ]
     },
     "execution_count": 11,
     "metadata": {},
     "output_type": "execute_result"
    }
   ],
   "source": [
    "coins.to_sql('coin_list', conn, if_exists='replace')"
   ]
  },
  {
   "cell_type": "code",
   "execution_count": null,
   "id": "1d0e3ae1",
   "metadata": {},
   "outputs": [],
   "source": []
  }
 ],
 "metadata": {
  "kernelspec": {
   "display_name": "Python 3 (ipykernel)",
   "language": "python",
   "name": "python3"
  },
  "language_info": {
   "codemirror_mode": {
    "name": "ipython",
    "version": 3
   },
   "file_extension": ".py",
   "mimetype": "text/x-python",
   "name": "python",
   "nbconvert_exporter": "python",
   "pygments_lexer": "ipython3",
   "version": "3.10.6"
  }
 },
 "nbformat": 4,
 "nbformat_minor": 5
}
