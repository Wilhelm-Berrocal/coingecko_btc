{
 "cells": [
  {
   "cell_type": "code",
   "execution_count": 1,
   "id": "ad6035d7",
   "metadata": {},
   "outputs": [],
   "source": [
    "import logging\n",
    "import pandas as pd\n",
    "import requests\n",
    "import sqlite3\n",
    "from datetime import date, datetime"
   ]
  },
  {
   "cell_type": "code",
   "execution_count": 2,
   "id": "ce3383ae",
   "metadata": {},
   "outputs": [],
   "source": [
    "log_format = \"%(asctime)s::%(levelname)s::%(name)s::\"\"%(filename)s::%(lineno)d::%(message)s\"\n",
    "logging.basicConfig(filename='./logs/get_coin_price.log', level='DEBUG', format=log_format)"
   ]
  },
  {
   "cell_type": "code",
   "execution_count": 3,
   "id": "83651061",
   "metadata": {},
   "outputs": [],
   "source": [
    "def get_coin_price(ini = '01-01-2022', end = '31-03-2022'):\n",
    "    \"\"\"Takes two utc dates in the format dd-mm-yyyy and gets historic prices from the coingecko api, and returns them in a dataframe, grouped by date, requires pandas as pd, requests and datetime\"\"\"\n",
    "    \n",
    "    btc_start_date = int(datetime.strptime('28-04-2013', \"%d-%m-%Y\").timestamp())\n",
    "    current_timestamp = int(datetime.now().timestamp())\n",
    "    \n",
    "    ini_timestamp = int(datetime.strptime(ini, \"%d-%m-%Y\").timestamp())\n",
    "    end_timestamp = int(datetime.strptime(end, \"%d-%m-%Y\").timestamp())\n",
    "    \n",
    "    status = None\n",
    "    \n",
    "    if ini_timestamp < btc_start_date:\n",
    "        ini_timestamp = btc_start_date\n",
    "    \n",
    "    if end_timestamp > current_timestamp:\n",
    "        end_timestamp = current_timestamp\n",
    "\n",
    "    try:\n",
    "        coin_url = f'https://api.coingecko.com/api/v3/coins/bitcoin/market_chart/range?vs_currency=usd&from={ini_timestamp}&to={end_timestamp}&precision=2'\n",
    "        request = requests.get(coin_url)\n",
    "        coin_historic_prices_json = request.json()\n",
    "    \n",
    "    except requests.exceptions.RequestException as e:\n",
    "        logging.info(f\"Exception - {e} occured\")\n",
    "    \n",
    "    finally:\n",
    "        if request.status_code != 200:\n",
    "            status = \"FAIL\"\n",
    "            logging.info(f\"get_coin_price : {status}\")\n",
    "        else:\n",
    "            status = \"PASS\"\n",
    "            logging.info(f\"get_coin_price : {status}\")\n",
    "    \n",
    "    return coin_historic_prices_json"
   ]
  },
  {
   "cell_type": "code",
   "execution_count": 4,
   "id": "ec0aefe6",
   "metadata": {},
   "outputs": [],
   "source": [
    "def coin_price_formatter(coin_historic_prices_json):\n",
    "    \"\"\"Converts a json historic price to a dataframe and returns daily data\"\"\"\n",
    "    \n",
    "    coin_price_df = pd.DataFrame(coin_historic_prices_json['prices'], columns =['utc_epoch', 'usd_price'])\n",
    "    \n",
    "    coin_price_df['utc_epoch'] = pd.to_numeric(coin_price_df['utc_epoch'], errors='coerce')\n",
    "    coin_price_df['usd_price'] = pd.to_numeric(coin_price_df['usd_price'], errors='coerce')\n",
    "    coin_price_df.dropna(how='any', inplace=True)\n",
    "    \n",
    "    coin_price_df['utc_datetime'] = pd.to_datetime(coin_price_df['utc_epoch'], unit='ms').dt.date\n",
    "    coin_price_df.drop(['utc_epoch'], axis = 1, inplace = True)\n",
    "    \n",
    "    coin_price_df = coin_price_df.groupby(['utc_datetime']).mean().reset_index()\n",
    "    coin_price_df['usd_price'] = coin_price_df['usd_price'].round(2)\n",
    "    \n",
    "    logging.info(f\"coin_price_formatter processed {len(coin_price_df)} records\")\n",
    "    coin_price_df.to_csv('./data/price_of_coins/coin_price.csv', index=False)\n",
    "    \n",
    "    return coin_price_df"
   ]
  },
  {
   "cell_type": "code",
   "execution_count": 5,
   "id": "61e24779",
   "metadata": {},
   "outputs": [
    {
     "data": {
      "text/plain": [
       "'Takes two utc dates in the format dd-mm-yyyy and gets historic prices from the coingecko api, and returns them in a dataframe, grouped by date, requires pandas as pd, requests and datetime'"
      ]
     },
     "execution_count": 5,
     "metadata": {},
     "output_type": "execute_result"
    }
   ],
   "source": [
    "get_coin_price.__doc__"
   ]
  },
  {
   "cell_type": "code",
   "execution_count": 6,
   "id": "59719fa2",
   "metadata": {},
   "outputs": [],
   "source": [
    "bitcoin_price_json = get_coin_price()"
   ]
  },
  {
   "cell_type": "code",
   "execution_count": 7,
   "id": "a7fe0e62",
   "metadata": {},
   "outputs": [],
   "source": [
    "bitcoin_price = coin_price_formatter(bitcoin_price_json)"
   ]
  },
  {
   "cell_type": "code",
   "execution_count": 8,
   "id": "eaa596f8",
   "metadata": {},
   "outputs": [
    {
     "data": {
      "text/html": [
       "<div>\n",
       "<style scoped>\n",
       "    .dataframe tbody tr th:only-of-type {\n",
       "        vertical-align: middle;\n",
       "    }\n",
       "\n",
       "    .dataframe tbody tr th {\n",
       "        vertical-align: top;\n",
       "    }\n",
       "\n",
       "    .dataframe thead th {\n",
       "        text-align: right;\n",
       "    }\n",
       "</style>\n",
       "<table border=\"1\" class=\"dataframe\">\n",
       "  <thead>\n",
       "    <tr style=\"text-align: right;\">\n",
       "      <th></th>\n",
       "      <th>utc_datetime</th>\n",
       "      <th>usd_price</th>\n",
       "    </tr>\n",
       "  </thead>\n",
       "  <tbody>\n",
       "    <tr>\n",
       "      <th>0</th>\n",
       "      <td>2022-01-01</td>\n",
       "      <td>47309.21</td>\n",
       "    </tr>\n",
       "    <tr>\n",
       "      <th>1</th>\n",
       "      <td>2022-01-02</td>\n",
       "      <td>47317.14</td>\n",
       "    </tr>\n",
       "    <tr>\n",
       "      <th>2</th>\n",
       "      <td>2022-01-03</td>\n",
       "      <td>46891.53</td>\n",
       "    </tr>\n",
       "    <tr>\n",
       "      <th>3</th>\n",
       "      <td>2022-01-04</td>\n",
       "      <td>46498.01</td>\n",
       "    </tr>\n",
       "    <tr>\n",
       "      <th>4</th>\n",
       "      <td>2022-01-05</td>\n",
       "      <td>45971.16</td>\n",
       "    </tr>\n",
       "    <tr>\n",
       "      <th>...</th>\n",
       "      <td>...</td>\n",
       "      <td>...</td>\n",
       "    </tr>\n",
       "    <tr>\n",
       "      <th>85</th>\n",
       "      <td>2022-03-27</td>\n",
       "      <td>44854.32</td>\n",
       "    </tr>\n",
       "    <tr>\n",
       "      <th>86</th>\n",
       "      <td>2022-03-28</td>\n",
       "      <td>47226.49</td>\n",
       "    </tr>\n",
       "    <tr>\n",
       "      <th>87</th>\n",
       "      <td>2022-03-29</td>\n",
       "      <td>47497.49</td>\n",
       "    </tr>\n",
       "    <tr>\n",
       "      <th>88</th>\n",
       "      <td>2022-03-30</td>\n",
       "      <td>47230.60</td>\n",
       "    </tr>\n",
       "    <tr>\n",
       "      <th>89</th>\n",
       "      <td>2022-03-31</td>\n",
       "      <td>47160.25</td>\n",
       "    </tr>\n",
       "  </tbody>\n",
       "</table>\n",
       "<p>90 rows × 2 columns</p>\n",
       "</div>"
      ],
      "text/plain": [
       "   utc_datetime  usd_price\n",
       "0    2022-01-01   47309.21\n",
       "1    2022-01-02   47317.14\n",
       "2    2022-01-03   46891.53\n",
       "3    2022-01-04   46498.01\n",
       "4    2022-01-05   45971.16\n",
       "..          ...        ...\n",
       "85   2022-03-27   44854.32\n",
       "86   2022-03-28   47226.49\n",
       "87   2022-03-29   47497.49\n",
       "88   2022-03-30   47230.60\n",
       "89   2022-03-31   47160.25\n",
       "\n",
       "[90 rows x 2 columns]"
      ]
     },
     "execution_count": 8,
     "metadata": {},
     "output_type": "execute_result"
    }
   ],
   "source": [
    "bitcoin_price"
   ]
  },
  {
   "cell_type": "code",
   "execution_count": null,
   "id": "14054023",
   "metadata": {},
   "outputs": [],
   "source": []
  },
  {
   "cell_type": "code",
   "execution_count": 9,
   "id": "d31fdfb2",
   "metadata": {},
   "outputs": [],
   "source": [
    "conn = sqlite3.connect('./db/coingecko')\n",
    "c = conn.cursor()"
   ]
  },
  {
   "cell_type": "code",
   "execution_count": 10,
   "id": "4f0d976d",
   "metadata": {},
   "outputs": [],
   "source": [
    "c.execute('CREATE TABLE IF NOT EXISTS bitcoin_price_hist (utc_datetime, usd_price)')\n",
    "conn.commit()"
   ]
  },
  {
   "cell_type": "code",
   "execution_count": 11,
   "id": "52e9c381",
   "metadata": {},
   "outputs": [
    {
     "data": {
      "text/plain": [
       "90"
      ]
     },
     "execution_count": 11,
     "metadata": {},
     "output_type": "execute_result"
    }
   ],
   "source": [
    "bitcoin_price.to_sql('bitcoin_price_hist', conn, if_exists='replace')"
   ]
  },
  {
   "cell_type": "code",
   "execution_count": null,
   "id": "eb30afdb",
   "metadata": {},
   "outputs": [],
   "source": []
  }
 ],
 "metadata": {
  "kernelspec": {
   "display_name": "Python 3 (ipykernel)",
   "language": "python",
   "name": "python3"
  },
  "language_info": {
   "codemirror_mode": {
    "name": "ipython",
    "version": 3
   },
   "file_extension": ".py",
   "mimetype": "text/x-python",
   "name": "python",
   "nbconvert_exporter": "python",
   "pygments_lexer": "ipython3",
   "version": "3.10.6"
  }
 },
 "nbformat": 4,
 "nbformat_minor": 5
}
